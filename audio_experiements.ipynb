{
 "cells": [
  {
   "cell_type": "code",
   "execution_count": 4,
   "metadata": {},
   "outputs": [],
   "source": [
    "import pandas as pd"
   ]
  },
  {
   "cell_type": "code",
   "execution_count": 5,
   "metadata": {
    "scrolled": true
   },
   "outputs": [
    {
     "name": "stderr",
     "output_type": "stream",
     "text": [
      "C:\\anaconda\\envs\\py35\\lib\\site-packages\\pydub\\utils.py:165: RuntimeWarning: Couldn't find ffmpeg or avconv - defaulting to ffmpeg, but may not work\n",
      "  warn(\"Couldn't find ffmpeg or avconv - defaulting to ffmpeg, but may not work\", RuntimeWarning)\n"
     ]
    }
   ],
   "source": [
    "import pydub"
   ]
  },
  {
   "cell_type": "code",
   "execution_count": 6,
   "metadata": {},
   "outputs": [
    {
     "data": {
      "text/plain": [
       "'H:/ffmpeg/ffmpeg-20180807-0cf5e6b-win64-static/bin/ffmpeg.exe'"
      ]
     },
     "execution_count": 6,
     "metadata": {},
     "output_type": "execute_result"
    }
   ],
   "source": [
    "pydub.AudioSegment.converter = \"H:/ffmpeg/ffmpeg-20180807-0cf5e6b-win64-static/bin/ffmpeg.exe\"\n",
    "pydub.AudioSegment.converter"
   ]
  },
  {
   "cell_type": "code",
   "execution_count": 7,
   "metadata": {},
   "outputs": [],
   "source": [
    "ndvi_df = pd.read_csv('ndvi_df_hattah.csv')\n",
    "ndwi_df = pd.read_csv('ndwi_df_hattah.csv')"
   ]
  },
  {
   "cell_type": "code",
   "execution_count": 8,
   "metadata": {},
   "outputs": [
    {
     "name": "stderr",
     "output_type": "stream",
     "text": [
      "C:\\anaconda\\envs\\py35\\lib\\site-packages\\pydub\\utils.py:179: RuntimeWarning: Couldn't find ffplay or avplay - defaulting to ffplay, but may not work\n",
      "  warn(\"Couldn't find ffplay or avplay - defaulting to ffplay, but may not work\", RuntimeWarning)\n"
     ]
    }
   ],
   "source": [
    "from pydub import AudioSegment\n",
    "from pydub.playback import play\n",
    "\n",
    "audio = AudioSegment.from_mp3(\"H:/audiovisualproject\\wildambience_frog.wav\")"
   ]
  },
  {
   "cell_type": "markdown",
   "metadata": {},
   "source": [
    "### Trim the input audio to the length of the variable / input animation in miliseconds"
   ]
  },
  {
   "cell_type": "code",
   "execution_count": 9,
   "metadata": {},
   "outputs": [
    {
     "data": {
      "text/plain": [
       "37400"
      ]
     },
     "execution_count": 9,
     "metadata": {},
     "output_type": "execute_result"
    }
   ],
   "source": [
    "audiotrim = audio[:(len(ndwi_df) * 200)]\n",
    "len(audiotrim)"
   ]
  },
  {
   "cell_type": "markdown",
   "metadata": {},
   "source": [
    "### Lower the input audio volume to \"very quiet\""
   ]
  },
  {
   "cell_type": "code",
   "execution_count": null,
   "metadata": {},
   "outputs": [],
   "source": [
    "audiotrimvol = audiotrim - 40"
   ]
  },
  {
   "cell_type": "markdown",
   "metadata": {},
   "source": [
    "### Convert the environmental variable(s) to an appropriate decibel range to apply to the input audio"
   ]
  },
  {
   "cell_type": "code",
   "execution_count": null,
   "metadata": {},
   "outputs": [],
   "source": [
    "volumes_ndvi = [i * 150 for i in ndvi_df.ndvi]\n",
    "print(len(volumes_ndvi))"
   ]
  },
  {
   "cell_type": "code",
   "execution_count": null,
   "metadata": {},
   "outputs": [],
   "source": [
    "volumes_ndwi = [i * 700 for i in ndwi_df.ndwi]\n",
    "print(len(volumes_ndwi))"
   ]
  },
  {
   "cell_type": "code",
   "execution_count": null,
   "metadata": {},
   "outputs": [],
   "source": [
    "#np.log?"
   ]
  },
  {
   "cell_type": "markdown",
   "metadata": {},
   "source": [
    "### Make a list of each segment of the input audiofile(s) that is the same as the framerate of the animation"
   ]
  },
  {
   "cell_type": "code",
   "execution_count": null,
   "metadata": {},
   "outputs": [],
   "source": [
    "i = 0\n",
    "list_of_audio_segments = []\n",
    "for a in range(len(ndwi_df)):\n",
    "    segment = audiotrimvol[i:i+200]\n",
    "    i = i + 200\n",
    "    list_of_audio_segments.append(segment)\n",
    "print(len(list_of_audio_segments))"
   ]
  },
  {
   "cell_type": "code",
   "execution_count": null,
   "metadata": {},
   "outputs": [],
   "source": [
    "#Check segment sounds\n",
    "play(list_of_audio_segments[186])"
   ]
  },
  {
   "cell_type": "markdown",
   "metadata": {},
   "source": [
    "### For each audio segment apply the matching decibel change to that segment "
   ]
  },
  {
   "cell_type": "code",
   "execution_count": null,
   "metadata": {
    "scrolled": true
   },
   "outputs": [],
   "source": [
    "list_of_audio_segments_new_volume = []\n",
    "for segment, volume in zip(list_of_audio_segments, volumes_ndwi):\n",
    "    #print(segment, volume)\n",
    "    segment_new_volume = segment + volume\n",
    "    list_of_audio_segments_new_volume.append(segment_new_volume)\n",
    "        \n",
    "print(len(list_of_audio_segments_new_volume))"
   ]
  },
  {
   "cell_type": "markdown",
   "metadata": {},
   "source": [
    "### Combine all the segments into a single audio file"
   ]
  },
  {
   "cell_type": "code",
   "execution_count": null,
   "metadata": {},
   "outputs": [],
   "source": [
    "processed_audio = sum(list_of_audio_segments_new_volume)"
   ]
  },
  {
   "cell_type": "code",
   "execution_count": null,
   "metadata": {},
   "outputs": [],
   "source": [
    "#demo the new audio file\n",
    "play(processed_audio)"
   ]
  },
  {
   "cell_type": "code",
   "execution_count": null,
   "metadata": {
    "scrolled": false
   },
   "outputs": [],
   "source": [
    "#Export the processed audio file\n",
    "exportname = \"audio_file_ouput.wav\"\n",
    "processed_audio.export(exportname, format='wav')"
   ]
  },
  {
   "cell_type": "markdown",
   "metadata": {},
   "source": [
    "### Combine the video and audio files using ffmpeg, check the codecs match"
   ]
  },
  {
   "cell_type": "code",
   "execution_count": 3,
   "metadata": {},
   "outputs": [
    {
     "name": "stderr",
     "output_type": "stream",
     "text": [
      "ffmpeg version N-91575-g0cf5e6b5b4 Copyright (c) 2000-2018 the FFmpeg developers\n",
      "  built with gcc 7.3.1 (GCC) 20180722\n",
      "  configuration: --enable-gpl --enable-version3 --enable-sdl2 --enable-bzlib --enable-fontconfig --enable-gnutls --enable-iconv --enable-libass --enable-libbluray --enable-libfreetype --enable-libmp3lame --enable-libopencore-amrnb --enable-libopencore-amrwb --enable-libopenjpeg --enable-libopus --enable-libshine --enable-libsnappy --enable-libsoxr --enable-libtheora --enable-libtwolame --enable-libvpx --enable-libwavpack --enable-libwebp --enable-libx264 --enable-libx265 --enable-libxml2 --enable-libzimg --enable-lzma --enable-zlib --enable-gmp --enable-libvidstab --enable-libvorbis --enable-libvo-amrwbenc --enable-libmysofa --enable-libspeex --enable-libxvid --enable-libaom --enable-libmfx --enable-amf --enable-ffnvcodec --enable-cuvid --enable-d3d11va --enable-nvenc --enable-nvdec --enable-dxva2 --enable-avisynth\n",
      "  libavutil      56. 18.102 / 56. 18.102\n",
      "  libavcodec     58. 22.100 / 58. 22.100\n",
      "  libavformat    58. 17.101 / 58. 17.101\n",
      "  libavdevice    58.  4.101 / 58.  4.101\n",
      "  libavfilter     7. 26.100 /  7. 26.100\n",
      "  libswscale      5.  2.100 /  5.  2.100\n",
      "  libswresample   3.  2.100 /  3.  2.100\n",
      "  libpostproc    55.  2.100 / 55.  2.100\n",
      "Input #0, mov,mp4,m4a,3gp,3g2,mj2, from 'hattah_simple_true.mp4':\n",
      "  Metadata:\n",
      "    major_brand     : isom\n",
      "    minor_version   : 512\n",
      "    compatible_brands: isomiso2avc1mp41\n",
      "    encoder         : Lavf58.12.100\n",
      "  Duration: 00:00:37.40, start: 0.000000, bitrate: 209 kb/s\n",
      "    Stream #0:0(und): Video: h264 (High) (avc1 / 0x31637661), yuv420p, 1200x336, 208 kb/s, 5 fps, 5 tbr, 10240 tbn, 10 tbc (default)\n",
      "    Metadata:\n",
      "      handler_name    : VideoHandler\n",
      "Guessed Channel Layout for Input Stream #1.0 : stereo\n",
      "Input #1, wav, from 'audio_file_output.wav':\n",
      "  Duration: 00:00:37.40, bitrate: 1411 kb/s\n",
      "    Stream #1:0: Audio: pcm_s16le ([1][0][0][0] / 0x0001), 44100 Hz, stereo, s16, 1411 kb/s\n",
      "Stream mapping:\n",
      "  Stream #0:0 -> #0:0 (copy)\n",
      "  Stream #1:0 -> #0:1 (pcm_s16le (native) -> aac (native))\n",
      "Press [q] to stop, [?] for help\n",
      "Output #0, mp4, to 'combined_audio_video_ndwi.mp4':\n",
      "  Metadata:\n",
      "    major_brand     : isom\n",
      "    minor_version   : 512\n",
      "    compatible_brands: isomiso2avc1mp41\n",
      "    encoder         : Lavf58.17.101\n",
      "    Stream #0:0(und): Video: h264 (High) (avc1 / 0x31637661), yuv420p, 1200x336, q=2-31, 208 kb/s, 5 fps, 5 tbr, 10240 tbn, 10240 tbc (default)\n",
      "    Metadata:\n",
      "      handler_name    : VideoHandler\n",
      "    Stream #0:1: Audio: aac (LC) (mp4a / 0x6134706D), 44100 Hz, stereo, fltp, 128 kb/s\n",
      "    Metadata:\n",
      "      encoder         : Lavc58.22.100 aac\n",
      "frame=   94 fps=0.0 q=-1.0 size=     512kB time=00:00:18.20 bitrate= 230.5kbits/s speed=36.3x    \n",
      "frame=  187 fps=0.0 q=-1.0 Lsize=    1540kB time=00:00:37.40 bitrate= 337.3kbits/s speed=47.8x    \n",
      "video:952kB audio:576kB subtitle:0kB other streams:0kB global headers:0kB muxing overhead: 0.790081%\n",
      "[aac @ 00000000005c93c0] Qavg: 2329.845\n"
     ]
    }
   ],
   "source": [
    "! H:/ffmpeg/bin/ffmpeg.exe -i hattah_simple_true.mp4 -i audio_file_output.wav -c:v copy -strict experimental combined_audio_video_ndwi.mp4"
   ]
  }
 ],
 "metadata": {
  "kernelspec": {
   "display_name": "Python 3",
   "language": "python",
   "name": "python3"
  },
  "language_info": {
   "codemirror_mode": {
    "name": "ipython",
    "version": 3
   },
   "file_extension": ".py",
   "mimetype": "text/x-python",
   "name": "python",
   "nbconvert_exporter": "python",
   "pygments_lexer": "ipython3",
   "version": "3.5.5"
  }
 },
 "nbformat": 4,
 "nbformat_minor": 2
}
